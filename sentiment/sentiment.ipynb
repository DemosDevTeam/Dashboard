{
 "cells": [
  {
   "cell_type": "code",
   "execution_count": 1,
   "metadata": {},
   "outputs": [],
   "source": [
    "import spacy \n",
    "import pandas as pd"
   ]
  },
  {
   "cell_type": "code",
   "execution_count": 2,
   "metadata": {},
   "outputs": [],
   "source": [
    "df = pd.read_csv('data/csv/residentResponses.csv')"
   ]
  },
  {
   "cell_type": "code",
   "execution_count": 3,
   "metadata": {},
   "outputs": [
    {
     "name": "stdout",
     "output_type": "stream",
     "text": [
      "Index(['Timestamp', 'What town/city do you live in? ',\n",
      "       'Do you currently interact with your city government? ',\n",
      "       'If \"YES,\" how do you interact with your city government? Please select all that apply. ',\n",
      "       'Do you feel like you are kept in the loop on the decisions made by your local government?',\n",
      "       'How do you keep in the loop on decisions and policies made by your local government?',\n",
      "       'Do you feel that your local government's decisions are in your best interest? ',\n",
      "       'Why do you feel that way? '],\n",
      "      dtype='object')\n"
     ]
    }
   ],
   "source": [
    "print(df.columns)\n",
    "\n",
    "df.columns = ['time', 'city', 'interact', 'interactHow', 'inLoop', 'inLoopHow', 'bestInterest', 'bestInterestWhy']"
   ]
  },
  {
   "cell_type": "code",
   "execution_count": 16,
   "metadata": {
    "scrolled": true
   },
   "outputs": [
    {
     "name": "stdout",
     "output_type": "stream",
     "text": [
      "3     I feel that it’s an echo chamber for a select ...\n",
      "4                           More developer land focused\n",
      "5     I feel that the community is always able to gi...\n",
      "7     I’m a white woman in chapel hill...I feel like...\n",
      "11    The town in general gets more scrutiny now tha...\n",
      "12                      Sometimes they help the people \n",
      "15    Equity in Chapel Hill still has a long way to go.\n",
      "16    They keep tearing down things and building oth...\n",
      "17                                              They do\n",
      "18                                   Because of support\n",
      "19    Busy and no one is providing the information t...\n",
      "20                          So far they have done well \n",
      "21                                      I’m still here \n",
      "25                                      I’m a minority \n",
      "26    It depends but there are ties where the govern...\n",
      "27                       I’m not sure of them honestly \n",
      "30    They aren’t using the bond money for what we v...\n",
      "31    I believe people naturally want things to be b...\n",
      "32                              Conversations with them\n",
      "33                                  Public improvements\n",
      "35                                         I don’t know\n",
      "41                                       Enjoy the city\n",
      "42                                                 Some\n",
      "43                                    business controls\n",
      "44                                  They don't do shit.\n",
      "45                                           It's good \n",
      "48                                         We pay taxes\n",
      "49    Schools are not what they should be; the gover...\n",
      "51                                        Too partisan \n",
      "55                               I don’t feel involved \n",
      "56                           Helps build your community\n",
      "58                                        They are good\n",
      "59                                      For the people \n",
      "60                  They make sure we are taken care of\n",
      "61                                           Sometimes \n",
      "62                                   I’d say sometimes \n",
      "Name: bestInterestWhy, dtype: object\n"
     ]
    }
   ],
   "source": [
    "bestInterest = df['bestInterestWhy'].dropna()\n",
    "print(bestInterest)"
   ]
  },
  {
   "cell_type": "code",
   "execution_count": 14,
   "metadata": {
    "collapsed": true
   },
   "outputs": [],
   "source": [
    "nlp = spacy.load('en_core_web_sm')\n",
    "\n",
    "tokens = []\n",
    "lemma = []\n",
    "pos = []\n",
    "\n",
    "for doc in nlp.pipe(df['bestInterest'].astype('unicode').values, batch_size=50,\n",
    "                        n_threads=3):\n",
    "    if doc.is_parsed:\n",
    "        tokens.append([n.text for n in doc])\n",
    "        lemma.append([n.lemma_ for n in doc])\n",
    "        pos.append([n.pos_ for n in doc])\n",
    "    else:\n",
    "        # We want to make sure that the lists of parsed results have the\n",
    "        # same number of entries of the original Dataframe, so add some blanks in case the parse fails\n",
    "        tokens.append(None)\n",
    "        lemma.append(None)\n",
    "        pos.append(None)\n",
    "\n",
    "df['tokens'] = tokens\n",
    "df['lemma'] = lemma\n",
    "df['pos'] = pos"
   ]
  },
  {
   "cell_type": "code",
   "execution_count": null,
   "metadata": {
    "collapsed": true
   },
   "outputs": [],
   "source": []
  }
 ],
 "metadata": {
  "kernelspec": {
   "display_name": "Python 3",
   "language": "python",
   "name": "python3"
  },
  "language_info": {
   "codemirror_mode": {
    "name": "ipython",
    "version": 3
   },
   "file_extension": ".py",
   "mimetype": "text/x-python",
   "name": "python",
   "nbconvert_exporter": "python",
   "pygments_lexer": "ipython3",
   "version": "3.6.1"
  }
 },
 "nbformat": 4,
 "nbformat_minor": 2
}
